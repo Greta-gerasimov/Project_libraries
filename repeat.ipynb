
{
  "nbformat": 4,
  "nbformat_minor": 0,
  "metadata": {
    "colab": {
      "name": "repeat.ipynb",
      "provenance": [],
      "authorship_tag": "ABX9TyPp8q47/GpcfccQRQUm6IHC",
      "include_colab_link": true
    },
    "kernelspec": {
      "name": "python3",
      "display_name": "Python 3"
    },
    "language_info": {
      "name": "python"
    }
  },
  "cells": [
    {
      "cell_type": "markdown",
      "metadata": {
        "id": "view-in-github",
        "colab_type": "text"
      },
      "source": [
        "<a href=\"https://colab.research.google.com/github/Greta-gerasimov/Project_libraries/blob/HW_2/repeat.ipynb\" target=\"_parent\"><img src=\"https://colab.research.google.com/assets/colab-badge.svg\" alt=\"Open In Colab\"/></a>"
      ]
    },
    {
      "cell_type": "code",
      "execution_count": 2,
      "metadata": {
        "id": "Jz71vPX1GitZ",
        "colab": {
          "base_uri": "https://localhost:8080/"
        },
        "outputId": "a688ee5a-71ab-49fd-b361-269e3ee3b5f9"
      },
      "outputs": [
        {
          "output_type": "stream",
          "name": "stdout",
          "text": [
            "[12. 13. 14. 15. 16. 17. 18. 19. 20. 21. 22. 23.]\n",
            "(12,)\n"
          ]
        }
      ],
      "source": [
        "import numpy as np \n",
        "a = np.linspace(12, 23, num =  12)\n",
        "\n",
        "print(a)\n",
        "print(a.shape)\n"
      ]
    },
    {
      "cell_type": "code",
      "source": [
        "#2\n",
        "b = a.reshape(3, 4)\n",
        "c = a.reshape(4, 3)\n",
        "f = a.reshape(2, 6)\n",
        "d = a.reshape(6, 2)\n",
        "e = a.reshape(1, 12)\n",
        "print(b)\n",
        "print(c)\n",
        "print(f)\n",
        "print(d)\n",
        "print(e)"
      ],
      "metadata": {
        "colab": {
          "base_uri": "https://localhost:8080/"
        },
        "id": "gb4N1_vOb0nv",
        "outputId": "41284a5f-308b-4724-cbfe-8d5af64cc115"
      },
      "execution_count": 3,
      "outputs": [
        {
          "output_type": "stream",
          "name": "stdout",
          "text": [
            "[[12. 13. 14. 15.]\n",
            " [16. 17. 18. 19.]\n",
            " [20. 21. 22. 23.]]\n",
            "[[12. 13. 14.]\n",
            " [15. 16. 17.]\n",
            " [18. 19. 20.]\n",
            " [21. 22. 23.]]\n",
            "[[12. 13. 14. 15. 16. 17.]\n",
            " [18. 19. 20. 21. 22. 23.]]\n",
            "[[12. 13.]\n",
            " [14. 15.]\n",
            " [16. 17.]\n",
            " [18. 19.]\n",
            " [20. 21.]\n",
            " [22. 23.]]\n",
            "[[12. 13. 14. 15. 16. 17. 18. 19. 20. 21. 22. 23.]]\n"
          ]
        }
      ]
    },
    {
      "cell_type": "code",
      "source": [
        "#3\n",
        "b = a.reshape(12, -1)\n",
        "c = a.reshape(4, -1)\n",
        "f = a.reshape(2, -1)\n",
        "d = a.reshape(-1, 4)\n",
        "e = a.reshape(-1, 3)\n",
        "print(b)\n",
        "print(c)\n",
        "print(f)\n",
        "print(d)\n",
        "print(e)"
      ],
      "metadata": {
        "colab": {
          "base_uri": "https://localhost:8080/"
        },
        "id": "vK9i8-2QcOr2",
        "outputId": "e0a5339a-0782-4dbe-ca10-b0b244865b6c"
      },
      "execution_count": 5,
      "outputs": [
        {
          "output_type": "stream",
          "name": "stdout",
          "text": [
            "[[12.]\n",
            " [13.]\n",
            " [14.]\n",
            " [15.]\n",
            " [16.]\n",
            " [17.]\n",
            " [18.]\n",
            " [19.]\n",
            " [20.]\n",
            " [21.]\n",
            " [22.]\n",
            " [23.]]\n",
            "[[12. 13. 14.]\n",
            " [15. 16. 17.]\n",
            " [18. 19. 20.]\n",
            " [21. 22. 23.]]\n",
            "[[12. 13. 14. 15. 16. 17.]\n",
            " [18. 19. 20. 21. 22. 23.]]\n",
            "[[12. 13. 14. 15.]\n",
            " [16. 17. 18. 19.]\n",
            " [20. 21. 22. 23.]]\n",
            "[[12. 13. 14.]\n",
            " [15. 16. 17.]\n",
            " [18. 19. 20.]\n",
            " [21. 22. 23.]]\n"
          ]
        }
      ]
    },
    {
      "cell_type": "code",
      "source": [
        "#5\n",
        "a = np.random.rand(3,4)\n",
        "a1 = np.array(a,dtype=np.float64)\n",
        "print(a1)\n",
        "print(a)\n",
        "print(a.size)\n",
        "# как сделать нормальное распределение со средним, равным 0 и среднеквадратичным отклонением, равным 1.0.???\n",
        "c = a.flatten()\n",
        "print(c)\n",
        "print(c.size)"
      ],
      "metadata": {
        "colab": {
          "base_uri": "https://localhost:8080/"
        },
        "id": "mnsVFYUlcYcq",
        "outputId": "0cc0581c-5b9d-4f02-96cb-7d8796bf963c"
      },
      "execution_count": 10,
      "outputs": [
        {
          "output_type": "stream",
          "name": "stdout",
          "text": [
            "[[0.81242353 0.43060076 0.14167103 0.59553626]\n",
            " [0.8885183  0.90860321 0.50045604 0.79195771]\n",
            " [0.50728553 0.36962442 0.49886611 0.87328403]]\n",
            "[[0.81242353 0.43060076 0.14167103 0.59553626]\n",
            " [0.8885183  0.90860321 0.50045604 0.79195771]\n",
            " [0.50728553 0.36962442 0.49886611 0.87328403]]\n",
            "12\n",
            "[0.81242353 0.43060076 0.14167103 0.59553626 0.8885183  0.90860321\n",
            " 0.50045604 0.79195771 0.50728553 0.36962442 0.49886611 0.87328403]\n",
            "12\n"
          ]
        }
      ]
    },
    {
      "cell_type": "code",
      "source": [
        "#6\n",
        "a = np.arange(20, 0, -2)\n",
        "print(a)\n"
      ],
      "metadata": {
        "colab": {
          "base_uri": "https://localhost:8080/"
        },
        "id": "vWDa2FFdgkhN",
        "outputId": "ecc6a027-f210-4f15-9226-aa44d850d5df"
      },
      "execution_count": 11,
      "outputs": [
        {
          "output_type": "stream",
          "name": "stdout",
          "text": [
            "[20 18 16 14 12 10  8  6  4  2]\n"
          ]
        }
      ]
    },
    {
      "cell_type": "code",
      "source": [
        "#7\n",
        "b = np.arange(20, 1, -2).reshape(1,10)\n",
        "print(b)\n",
        "#нужно ли дополнительно указывать, что это целые числа?"
      ],
      "metadata": {
        "colab": {
          "base_uri": "https://localhost:8080/"
        },
        "id": "zFO5p_h-gxpt",
        "outputId": "4860f84a-55fb-4b2a-a9aa-eb4f705836f6"
      },
      "execution_count": 12,
      "outputs": [
        {
          "output_type": "stream",
          "name": "stdout",
          "text": [
            "[[20 18 16 14 12 10  8  6  4  2]]\n"
          ]
        }
      ]
    },
    {
      "cell_type": "code",
      "source": [
        "#разница между массивом a и b состоит в том, первый массив - одномерный(состоит из одной строки),\n",
        "# а второй - двумерный(состоит из какого-то вполне определенного числа строк и столбцов, что определяется методом reshape(меняет размерность))"
      ],
      "metadata": {
        "id": "d2k_1CKHiJ2E"
      },
      "execution_count": null,
      "outputs": []
    },
    {
      "cell_type": "code",
      "source": [
        "#массив a - двумерный из нулей, число строк которого больше чем 1 и на 1 меньше, чем в массиве b\n",
        "\n",
        "a = np.zeros((2, 2))\n",
        "print(a)\n",
        "\n",
        "b = np.ones((3, 2))\n",
        "print(b)\n",
        "\n",
        "#обьединить  вертикально массивы a + b  = v\n",
        "#v.size = 10\n",
        "v = np.vstack((a, b))\n",
        "print(v)\n",
        "v.size\n"
      ],
      "metadata": {
        "colab": {
          "base_uri": "https://localhost:8080/"
        },
        "id": "x1jVcp_8i3ju",
        "outputId": "b6375a30-6dcc-407a-b2ea-0f239d0f6c3c"
      },
      "execution_count": 13,
      "outputs": [
        {
          "output_type": "stream",
          "name": "stdout",
          "text": [
            "[[0. 0.]\n",
            " [0. 0.]]\n",
            "[[1. 1.]\n",
            " [1. 1.]\n",
            " [1. 1.]]\n",
            "[[0. 0.]\n",
            " [0. 0.]\n",
            " [1. 1.]\n",
            " [1. 1.]\n",
            " [1. 1.]]\n"
          ]
        },
        {
          "output_type": "execute_result",
          "data": {
            "text/plain": [
              "10"
            ]
          },
          "metadata": {},
          "execution_count": 13
        }
      ]
    },
    {
      "cell_type": "code",
      "source": [
        "#9\n",
        "a = np.arange(0, 12)\n",
        "print(a)\n",
        "\n",
        "A = a.reshape(4,3)\n",
        "print(A)\n",
        "\n",
        "At =  np.transpose(A)\n",
        "print(At)\n",
        "\n",
        "B  = np.dot(A,At)\n",
        "print(B)\n",
        "B.shape\n",
        "\n",
        "B_inv=np.linalg.inv(B)\n",
        "print(B_inv)\n",
        "#Singular matrix"
      ],
      "metadata": {
        "colab": {
          "base_uri": "https://localhost:8080/",
          "height": 651
        },
        "id": "qXX-gpBMjWGP",
        "outputId": "5b3b4ff3-8a23-4d3b-9bb4-57848b1c3dc6"
      },
      "execution_count": 14,
      "outputs": [
        {
          "output_type": "stream",
          "name": "stdout",
          "text": [
            "[ 0  1  2  3  4  5  6  7  8  9 10 11]\n",
            "[[ 0  1  2]\n",
            " [ 3  4  5]\n",
            " [ 6  7  8]\n",
            " [ 9 10 11]]\n",
            "[[ 0  3  6  9]\n",
            " [ 1  4  7 10]\n",
            " [ 2  5  8 11]]\n",
            "[[  5  14  23  32]\n",
            " [ 14  50  86 122]\n",
            " [ 23  86 149 212]\n",
            " [ 32 122 212 302]]\n"
          ]
        },
        {
          "output_type": "error",
          "ename": "LinAlgError",
          "evalue": "ignored",
          "traceback": [
            "\u001b[0;31m---------------------------------------------------------------------------\u001b[0m",
            "\u001b[0;31mLinAlgError\u001b[0m                               Traceback (most recent call last)",
            "\u001b[0;32m<ipython-input-14-dc597370970e>\u001b[0m in \u001b[0;36m<module>\u001b[0;34m()\u001b[0m\n\u001b[1;32m     13\u001b[0m \u001b[0mB\u001b[0m\u001b[0;34m.\u001b[0m\u001b[0mshape\u001b[0m\u001b[0;34m\u001b[0m\u001b[0;34m\u001b[0m\u001b[0m\n\u001b[1;32m     14\u001b[0m \u001b[0;34m\u001b[0m\u001b[0m\n\u001b[0;32m---> 15\u001b[0;31m \u001b[0mB_inv\u001b[0m\u001b[0;34m=\u001b[0m\u001b[0mnp\u001b[0m\u001b[0;34m.\u001b[0m\u001b[0mlinalg\u001b[0m\u001b[0;34m.\u001b[0m\u001b[0minv\u001b[0m\u001b[0;34m(\u001b[0m\u001b[0mB\u001b[0m\u001b[0;34m)\u001b[0m\u001b[0;34m\u001b[0m\u001b[0;34m\u001b[0m\u001b[0m\n\u001b[0m\u001b[1;32m     16\u001b[0m \u001b[0mprint\u001b[0m\u001b[0;34m(\u001b[0m\u001b[0mB_inv\u001b[0m\u001b[0;34m)\u001b[0m\u001b[0;34m\u001b[0m\u001b[0;34m\u001b[0m\u001b[0m\n\u001b[1;32m     17\u001b[0m \u001b[0;31m#Singular matrix\u001b[0m\u001b[0;34m\u001b[0m\u001b[0;34m\u001b[0m\u001b[0;34m\u001b[0m\u001b[0m\n",
            "\u001b[0;32m<__array_function__ internals>\u001b[0m in \u001b[0;36minv\u001b[0;34m(*args, **kwargs)\u001b[0m\n",
            "\u001b[0;32m/usr/local/lib/python3.7/dist-packages/numpy/linalg/linalg.py\u001b[0m in \u001b[0;36minv\u001b[0;34m(a)\u001b[0m\n\u001b[1;32m    543\u001b[0m     \u001b[0msignature\u001b[0m \u001b[0;34m=\u001b[0m \u001b[0;34m'D->D'\u001b[0m \u001b[0;32mif\u001b[0m \u001b[0misComplexType\u001b[0m\u001b[0;34m(\u001b[0m\u001b[0mt\u001b[0m\u001b[0;34m)\u001b[0m \u001b[0;32melse\u001b[0m \u001b[0;34m'd->d'\u001b[0m\u001b[0;34m\u001b[0m\u001b[0;34m\u001b[0m\u001b[0m\n\u001b[1;32m    544\u001b[0m     \u001b[0mextobj\u001b[0m \u001b[0;34m=\u001b[0m \u001b[0mget_linalg_error_extobj\u001b[0m\u001b[0;34m(\u001b[0m\u001b[0m_raise_linalgerror_singular\u001b[0m\u001b[0;34m)\u001b[0m\u001b[0;34m\u001b[0m\u001b[0;34m\u001b[0m\u001b[0m\n\u001b[0;32m--> 545\u001b[0;31m     \u001b[0mainv\u001b[0m \u001b[0;34m=\u001b[0m \u001b[0m_umath_linalg\u001b[0m\u001b[0;34m.\u001b[0m\u001b[0minv\u001b[0m\u001b[0;34m(\u001b[0m\u001b[0ma\u001b[0m\u001b[0;34m,\u001b[0m \u001b[0msignature\u001b[0m\u001b[0;34m=\u001b[0m\u001b[0msignature\u001b[0m\u001b[0;34m,\u001b[0m \u001b[0mextobj\u001b[0m\u001b[0;34m=\u001b[0m\u001b[0mextobj\u001b[0m\u001b[0;34m)\u001b[0m\u001b[0;34m\u001b[0m\u001b[0;34m\u001b[0m\u001b[0m\n\u001b[0m\u001b[1;32m    546\u001b[0m     \u001b[0;32mreturn\u001b[0m \u001b[0mwrap\u001b[0m\u001b[0;34m(\u001b[0m\u001b[0mainv\u001b[0m\u001b[0;34m.\u001b[0m\u001b[0mastype\u001b[0m\u001b[0;34m(\u001b[0m\u001b[0mresult_t\u001b[0m\u001b[0;34m,\u001b[0m \u001b[0mcopy\u001b[0m\u001b[0;34m=\u001b[0m\u001b[0;32mFalse\u001b[0m\u001b[0;34m)\u001b[0m\u001b[0;34m)\u001b[0m\u001b[0;34m\u001b[0m\u001b[0;34m\u001b[0m\u001b[0m\n\u001b[1;32m    547\u001b[0m \u001b[0;34m\u001b[0m\u001b[0m\n",
            "\u001b[0;32m/usr/local/lib/python3.7/dist-packages/numpy/linalg/linalg.py\u001b[0m in \u001b[0;36m_raise_linalgerror_singular\u001b[0;34m(err, flag)\u001b[0m\n\u001b[1;32m     86\u001b[0m \u001b[0;34m\u001b[0m\u001b[0m\n\u001b[1;32m     87\u001b[0m \u001b[0;32mdef\u001b[0m \u001b[0m_raise_linalgerror_singular\u001b[0m\u001b[0;34m(\u001b[0m\u001b[0merr\u001b[0m\u001b[0;34m,\u001b[0m \u001b[0mflag\u001b[0m\u001b[0;34m)\u001b[0m\u001b[0;34m:\u001b[0m\u001b[0;34m\u001b[0m\u001b[0;34m\u001b[0m\u001b[0m\n\u001b[0;32m---> 88\u001b[0;31m     \u001b[0;32mraise\u001b[0m \u001b[0mLinAlgError\u001b[0m\u001b[0;34m(\u001b[0m\u001b[0;34m\"Singular matrix\"\u001b[0m\u001b[0;34m)\u001b[0m\u001b[0;34m\u001b[0m\u001b[0;34m\u001b[0m\u001b[0m\n\u001b[0m\u001b[1;32m     89\u001b[0m \u001b[0;34m\u001b[0m\u001b[0m\n\u001b[1;32m     90\u001b[0m \u001b[0;32mdef\u001b[0m \u001b[0m_raise_linalgerror_nonposdef\u001b[0m\u001b[0;34m(\u001b[0m\u001b[0merr\u001b[0m\u001b[0;34m,\u001b[0m \u001b[0mflag\u001b[0m\u001b[0;34m)\u001b[0m\u001b[0;34m:\u001b[0m\u001b[0;34m\u001b[0m\u001b[0;34m\u001b[0m\u001b[0m\n",
            "\u001b[0;31mLinAlgError\u001b[0m: Singular matrix"
          ]
        }
      ]
    },
    {
      "cell_type": "code",
      "source": [
        "#10.Генератор случайных чисел(42)\n",
        "\n",
        "import random\n",
        "random.seed(42)\n",
        "print(random.random())\n",
        "\n",
        "for i in range(5):\n",
        "    random.seed(11)\n",
        "    print(random.randint(1, 1000))\n"
      ],
      "metadata": {
        "colab": {
          "base_uri": "https://localhost:8080/"
        },
        "id": "v8OsMLUoj1iN",
        "outputId": "b547b340-bc97-4609-fca0-fa41e3edfa07"
      },
      "execution_count": 16,
      "outputs": [
        {
          "output_type": "stream",
          "name": "stdout",
          "text": [
            "0.6394267984578837\n",
            "464\n",
            "464\n",
            "464\n",
            "464\n",
            "464\n"
          ]
        }
      ]
    },
    {
      "cell_type": "code",
      "source": [
        "#11\n",
        "c = np.random.randint(0, 15, 16)\n",
        "print(c)"
      ],
      "metadata": {
        "colab": {
          "base_uri": "https://localhost:8080/"
        },
        "id": "-ZzLGLAekBlt",
        "outputId": "b090907b-ca57-4ba2-a908-1c755af4230f"
      },
      "execution_count": 17,
      "outputs": [
        {
          "output_type": "stream",
          "name": "stdout",
          "text": [
            "[ 9 12  1  0  9  8  5 13 13  2  8  2  1  1 13  3]\n"
          ]
        }
      ]
    },
    {
      "cell_type": "code",
      "source": [
        "\n",
        "#12-13.\n",
        "C = c.reshape(4, 4)\n",
        "print(C)\n",
        "k = 10\n",
        "D = B+(C*k)\n",
        "print(D)\n",
        "print(f'Определитель:\\n{np.linalg.det(D):.0f}')\n",
        "print(f'Ранг:\\n{np.linalg.matrix_rank(D)}')\n",
        "#обратная матрица D\n",
        "D_inv=np.linalg.inv(D)\n",
        "print(D_inv)\n",
        "D_inv=np.where(D_inv<0, 0, 1)\n",
        "print(D_inv)"
      ],
      "metadata": {
        "colab": {
          "base_uri": "https://localhost:8080/"
        },
        "id": "bk6_4PsAlOIi",
        "outputId": "79c1507c-6158-422c-9438-9857d5e4e559"
      },
      "execution_count": 19,
      "outputs": [
        {
          "output_type": "stream",
          "name": "stdout",
          "text": [
            "[[ 9 12  1  0]\n",
            " [ 9  8  5 13]\n",
            " [13  2  8  2]\n",
            " [ 1  1 13  3]]\n",
            "[[ 95 134  33  32]\n",
            " [104 130 136 252]\n",
            " [153 106 229 232]\n",
            " [ 42 132 342 332]]\n",
            "Определитель:\n",
            "-543986000\n",
            "Ранг:\n",
            "4\n",
            "[[-0.00085612 -0.00073958  0.0091484  -0.00574897]\n",
            " [ 0.00888714  0.00055715 -0.00686194  0.00351561]\n",
            " [ 0.00164379 -0.00838845  0.00368355  0.00363465]\n",
            " [-0.00511844  0.00851316 -0.00222359 -0.00140257]]\n",
            "[[0 0 1 0]\n",
            " [1 1 0 1]\n",
            " [1 0 1 1]\n",
            " [0 1 0 0]]\n"
          ]
        }
      ]
    },
    {
      "cell_type": "code",
      "source": [
        "print(B)\n",
        "print(C)\n",
        "E=np.where(D_inv==1, B, C)\n",
        "print(E)"
      ],
      "metadata": {
        "colab": {
          "base_uri": "https://localhost:8080/"
        },
        "id": "gpWQVXO_lT_t",
        "outputId": "5df11132-7681-452b-f6c6-820412228ae3"
      },
      "execution_count": 20,
      "outputs": [
        {
          "output_type": "stream",
          "name": "stdout",
          "text": [
            "[[  5  14  23  32]\n",
            " [ 14  50  86 122]\n",
            " [ 23  86 149 212]\n",
            " [ 32 122 212 302]]\n",
            "[[ 9 12  1  0]\n",
            " [ 9  8  5 13]\n",
            " [13  2  8  2]\n",
            " [ 1  1 13  3]]\n",
            "[[  9  12  23   0]\n",
            " [ 14  50   5 122]\n",
            " [ 23   2 149 212]\n",
            " [  1 122  13   3]]\n"
          ]
        }
      ]
    }
  ]
}
