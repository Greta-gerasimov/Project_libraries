{
  "nbformat": 4,
  "nbformat_minor": 0,
  "metadata": {
    "colab": {
      "name": "визуализаия данных.ipynb",
      "provenance": [],
      "authorship_tag": "ABX9TyMu4/D/dRTN1I/LomkeVZsp",
      "include_colab_link": true
    },
    "kernelspec": {
      "name": "python3",
      "display_name": "Python 3"
    },
    "language_info": {
      "name": "python"
    }
  },
  "cells": [
    {
      "cell_type": "markdown",
      "metadata": {
        "id": "view-in-github",
        "colab_type": "text"
      },
      "source": [
        "<a href=\"https://colab.research.google.com/github/Greta-gerasimov/Project_libraries/blob/main/%D0%B2%D0%B8%D0%B7%D1%83%D0%B0%D0%BB%D0%B8%D0%B7%D0%B0%D0%B8%D1%8F_%D0%B4%D0%B0%D0%BD%D0%BD%D1%8B%D1%85.ipynb\" target=\"_parent\"><img src=\"https://colab.research.google.com/assets/colab-badge.svg\" alt=\"Open In Colab\"/></a>"
      ]
    },
    {
      "cell_type": "markdown",
      "source": [
        "**Визуализация** **данных**"
      ],
      "metadata": {
        "id": "BUc44eAM-HzX"
      }
    },
    {
      "cell_type": "code",
      "source": [
        "import matplotlib.pyplot as plt\n",
        "import numpy as np"
      ],
      "metadata": {
        "id": "9G9p3_CS-Q4P"
      },
      "execution_count": null,
      "outputs": []
    },
    {
      "cell_type": "code",
      "source": [
        "numbers = np.arange(1, 8)\n",
        "print(numbers)\n",
        "\n",
        "numbers2= [ 3.5, 3.8, 4.2, 4.5, 5, 5.5, 7]\n",
        "print(numbers2)"
      ],
      "metadata": {
        "id": "0Asd0vk9-UEH",
        "colab": {
          "base_uri": "https://localhost:8080/"
        },
        "outputId": "d83d0277-44e3-47c1-d574-5ccaa5ae84d9"
      },
      "execution_count": 3,
      "outputs": [
        {
          "output_type": "stream",
          "name": "stdout",
          "text": [
            "[1 2 3 4 5 6 7]\n",
            "[3.5, 3.8, 4.2, 4.5, 5, 5.5, 7]\n"
          ]
        }
      ]
    },
    {
      "cell_type": "code",
      "source": [
        "#plot\n",
        "plt.plot(numbers, numbers2)\n",
        "plt.show()"
      ],
      "metadata": {
        "id": "BrOYVuBN-W2J",
        "colab": {
          "base_uri": "https://localhost:8080/",
          "height": 265
        },
        "outputId": "cda08716-c214-45c9-a658-27d5f21531a3"
      },
      "execution_count": 5,
      "outputs": [
        {
          "output_type": "display_data",
          "data": {
            "text/plain": [
              "<Figure size 432x288 with 1 Axes>"
            ],
            "image/png": "[encoded data removed]"
          },
          "metadata": {
            "needs_background": "light"
          }
        }
      ]
    },
    {
      "cell_type": "code",
      "source": [
        "#scatter plot\n",
        "plt.scatter(numbers, numbers2)\n",
        "plt.show()"
      ],
      "metadata": {
        "colab": {
          "base_uri": "https://localhost:8080/",
          "height": 265
        },
        "id": "yY5LqEheB2vb",
        "outputId": "493343d0-1e8e-402e-9089-ca9903a8ef0c"
      },
      "execution_count": 6,
      "outputs": [
        {
          "output_type": "display_data",
          "data": {
            "text/plain": [
              "<Figure size 432x288 with 1 Axes>"
            ],
            "image/png": "[encoded data removed]"
          },
          "metadata": {
            "needs_background": "light"
          }
        }
      ]
    },
    {
      "cell_type": "code",
      "source": [
        "#linspace\n",
        "t = np.linspace(0, 11, num =  51)\n",
        "print(t)\n",
        "\n"
      ],
      "metadata": {
        "colab": {
          "base_uri": "https://localhost:8080/"
        },
        "id": "3_ayXxZyDkWx",
        "outputId": "3902a616-9c16-4fca-9f3b-831b81162d54"
      },
      "execution_count": 7,
      "outputs": [
        {
          "output_type": "stream",
          "name": "stdout",
          "text": [
            "[ 0.    0.22  0.44  0.66  0.88  1.1   1.32  1.54  1.76  1.98  2.2   2.42\n",
            "  2.64  2.86  3.08  3.3   3.52  3.74  3.96  4.18  4.4   4.62  4.84  5.06\n",
            "  5.28  5.5   5.72  5.94  6.16  6.38  6.6   6.82  7.04  7.26  7.48  7.7\n",
            "  7.92  8.14  8.36  8.58  8.8   9.02  9.24  9.46  9.68  9.9  10.12 10.34\n",
            " 10.56 10.78 11.  ]\n"
          ]
        }
      ]
    },
    {
      "cell_type": "code",
      "source": [
        "#график с пользовательскими настройками\n",
        "f = np.cos(t)\n",
        "print(f)\n",
        "plt.plot(t, f,color='green')\n",
        "plt.title( 'График f(t)')\n",
        "plt.xlabel(\"Переменная t\")\n",
        "plt.ylabel(\"Функция f\")\n",
        "plt.axis([0, 9.5 , -2.5, 2.5])\n",
        "plt.show()"
      ],
      "metadata": {
        "colab": {
          "base_uri": "https://localhost:8080/",
          "height": 460
        },
        "id": "2g-ELLkHDpWl",
        "outputId": "6c05df05-6355-4b52-dc20-77f043cd63eb"
      },
      "execution_count": 9,
      "outputs": [
        {
          "output_type": "stream",
          "name": "stdout",
          "text": [
            "[ 1.          0.97589745  0.90475166  0.78999223  0.63715114  0.45359612\n",
            "  0.24817545  0.03079146 -0.18807684 -0.39787887 -0.58850112 -0.7507546\n",
            " -0.87681789 -0.96061408 -0.99810377 -0.98747977 -0.92925421 -0.82623385\n",
            " -0.6833848  -0.50759313 -0.30733287 -0.0922576   0.12726495  0.34065269\n",
            "  0.53761923  0.70866977  0.84555882  0.94168763  0.99242228  0.99531712\n",
            "  0.95023259  0.85934201  0.72702676  0.55966511  0.36532474  0.15337386\n",
            " -0.06597042 -0.28213459 -0.48469844 -0.66389735 -0.81109301 -0.91918986\n",
            " -0.98297707 -0.99937977 -0.96760726 -0.88919115 -0.76791149 -0.60961458\n",
            " -0.42193114 -0.21390846  0.0044257 ]\n"
          ]
        },
        {
          "output_type": "display_data",
          "data": {
            "text/plain": [
              "<Figure size 432x288 with 1 Axes>"
            ],
            "image/png": "[encoded data removed]"
          },
          "metadata": {
            "needs_background": "light"
          }
        }
      ]
    },
    {
      "cell_type": "code",
      "source": [
        "#3\n",
        "x = np.linspace(-3, 3, num =  51)\n",
        "print(x)\n",
        "\n",
        "#массивы y1,y2,y3\n",
        "y1 = x * 3\n",
        "y2 = 2 * x + 0.5\n",
        "y3 = -3 * x - 1.5\n",
        "y4 = np.sin(x)\n",
        "print(y1)\n",
        "print(y2)\n",
        "print(y3)\n",
        "print(y4)\n"
      ],
      "metadata": {
        "colab": {
          "base_uri": "https://localhost:8080/"
        },
        "id": "6DWKRqOAESpF",
        "outputId": "124e286c-dbf8-49f9-e1ec-e05fc4e96d8b"
      },
      "execution_count": 10,
      "outputs": [
        {
          "output_type": "stream",
          "name": "stdout",
          "text": [
            "[-3.   -2.88 -2.76 -2.64 -2.52 -2.4  -2.28 -2.16 -2.04 -1.92 -1.8  -1.68\n",
            " -1.56 -1.44 -1.32 -1.2  -1.08 -0.96 -0.84 -0.72 -0.6  -0.48 -0.36 -0.24\n",
            " -0.12  0.    0.12  0.24  0.36  0.48  0.6   0.72  0.84  0.96  1.08  1.2\n",
            "  1.32  1.44  1.56  1.68  1.8   1.92  2.04  2.16  2.28  2.4   2.52  2.64\n",
            "  2.76  2.88  3.  ]\n",
            "[-9.   -8.64 -8.28 -7.92 -7.56 -7.2  -6.84 -6.48 -6.12 -5.76 -5.4  -5.04\n",
            " -4.68 -4.32 -3.96 -3.6  -3.24 -2.88 -2.52 -2.16 -1.8  -1.44 -1.08 -0.72\n",
            " -0.36  0.    0.36  0.72  1.08  1.44  1.8   2.16  2.52  2.88  3.24  3.6\n",
            "  3.96  4.32  4.68  5.04  5.4   5.76  6.12  6.48  6.84  7.2   7.56  7.92\n",
            "  8.28  8.64  9.  ]\n",
            "[-5.5  -5.26 -5.02 -4.78 -4.54 -4.3  -4.06 -3.82 -3.58 -3.34 -3.1  -2.86\n",
            " -2.62 -2.38 -2.14 -1.9  -1.66 -1.42 -1.18 -0.94 -0.7  -0.46 -0.22  0.02\n",
            "  0.26  0.5   0.74  0.98  1.22  1.46  1.7   1.94  2.18  2.42  2.66  2.9\n",
            "  3.14  3.38  3.62  3.86  4.1   4.34  4.58  4.82  5.06  5.3   5.54  5.78\n",
            "  6.02  6.26  6.5 ]\n",
            "[  7.5    7.14   6.78   6.42   6.06   5.7    5.34   4.98   4.62   4.26\n",
            "   3.9    3.54   3.18   2.82   2.46   2.1    1.74   1.38   1.02   0.66\n",
            "   0.3   -0.06  -0.42  -0.78  -1.14  -1.5   -1.86  -2.22  -2.58  -2.94\n",
            "  -3.3   -3.66  -4.02  -4.38  -4.74  -5.1   -5.46  -5.82  -6.18  -6.54\n",
            "  -6.9   -7.26  -7.62  -7.98  -8.34  -8.7   -9.06  -9.42  -9.78 -10.14\n",
            " -10.5 ]\n",
            "[-0.14112001 -0.25861935 -0.37239904 -0.48082261 -0.58233065 -0.67546318\n",
            " -0.75888071 -0.83138346 -0.89192865 -0.93964547 -0.97384763 -0.9940432\n",
            " -0.99994172 -0.99145835 -0.9687151  -0.93203909 -0.88195781 -0.81919157\n",
            " -0.74464312 -0.65938467 -0.56464247 -0.46177918 -0.35227423 -0.23770263\n",
            " -0.11971221  0.          0.11971221  0.23770263  0.35227423  0.46177918\n",
            "  0.56464247  0.65938467  0.74464312  0.81919157  0.88195781  0.93203909\n",
            "  0.9687151   0.99145835  0.99994172  0.9940432   0.97384763  0.93964547\n",
            "  0.89192865  0.83138346  0.75888071  0.67546318  0.58233065  0.48082261\n",
            "  0.37239904  0.25861935  0.14112001]\n"
          ]
        }
      ]
    },
    {
      "cell_type": "code",
      "source": [
        "#использование модуля subplot\n",
        "fig, ax = plt.subplots(nrows=2, ncols=2)\n",
        "ax1, ax2, ax3, ax4 = ax.flatten()\n",
        "\n",
        "\n",
        "#plot 1\n",
        "ax1.plot(2, 2, 1)\n",
        "ax1.plot(x, y1, 'g')\n",
        "ax1.set_title('График y1')\n",
        "ax1.set_xlim([-5, 5])\n",
        "#plot 2\n",
        "ax2.plot(2, 2, 2)\n",
        "ax2.plot(x, y2, '-.r')\n",
        "ax2.set_title('График y2')\n",
        "\n",
        "#plot 3\n",
        "ax3.plot(2, 2, 3)\n",
        "ax3.plot(x, y3, ':y')\n",
        "ax3.set_title('График y3')\n",
        "\n",
        "#plot 4\n",
        "ax4.plot(2, 2, 4)\n",
        "ax4.plot(x, y4, '--c')\n",
        "ax4.set_title('График y4')\n",
        "\n",
        "fig.set_size_inches(8, 6)\n",
        "fig.subplots_adjust(wspace=0.3, hspace=0.3)\n",
        "\n",
        "plt.show()\n"
      ],
      "metadata": {
        "colab": {
          "base_uri": "https://localhost:8080/",
          "height": 390
        },
        "id": "CUEEZHizEex2",
        "outputId": "b9be7ba5-58c5-4636-d380-923ee0f77cb7"
      },
      "execution_count": 12,
      "outputs": [
        {
          "output_type": "display_data",
          "data": {
            "text/plain": [
              "<Figure size 576x432 with 4 Axes>"
            ],
            "image/png": "[encoded data removed]"
          },
          "metadata": {
            "needs_background": "light"
          }
        }
      ]
    },
    {
      "cell_type": "code",
      "source": [
        "#задание 4.Data\n",
        "import pandas as pd\n",
        "plt.style.use('fivethirtyeight')\n",
        "df = pd.read_csv('creditcard.csv')\n",
        "df.head()\n",
        "\n",
        "#метод value_counts\n",
        "class_ = df['Class'].value_counts()\n",
        "print(class_)\n",
        "Class_info = pd.Series(class_)\n",
        "\n"
      ],
      "metadata": {
        "colab": {
          "base_uri": "https://localhost:8080/"
        },
        "id": "x41tRMUSEvbu",
        "outputId": "de3a7cb7-5459-45fa-e7fc-f53b733f3191"
      },
      "execution_count": 14,
      "outputs": [
        {
          "output_type": "stream",
          "name": "stdout",
          "text": [
            "0    284315\n",
            "1       492\n",
            "Name: Class, dtype: int64\n"
          ]
        }
      ]
    },
    {
      "cell_type": "code",
      "source": [
        "#демонстрация с помощью графика\n",
        "Class_info.plot(kind=\"bar\")\n",
        "plt.show()"
      ],
      "metadata": {
        "colab": {
          "base_uri": "https://localhost:8080/",
          "height": 277
        },
        "id": "P_ULI7WHF3LT",
        "outputId": "91c0cb0b-986a-43a8-c19b-23df8b762d84"
      },
      "execution_count": 15,
      "outputs": [
        {
          "output_type": "display_data",
          "data": {
            "text/plain": [
              "<Figure size 432x288 with 1 Axes>"
            ],
            "image/png": "[encoded data removed]"
          },
          "metadata": {}
        }
      ]
    },
    {
      "cell_type": "code",
      "source": [
        "#логарифмический масштаб\n",
        "\n",
        "Class_info.plot(kind=\"bar\", logy=True)\n",
        "plt.show()"
      ],
      "metadata": {
        "colab": {
          "base_uri": "https://localhost:8080/",
          "height": 277
        },
        "id": "C6Rt7tOFF5gK",
        "outputId": "189202aa-3d20-4aba-f5ea-97cb4b85711b"
      },
      "execution_count": 16,
      "outputs": [
        {
          "output_type": "display_data",
          "data": {
            "text/plain": [
              "<Figure size 432x288 with 1 Axes>"
            ],
            "image/png": "[encoded data removed]"
          },
          "metadata": {}
        }
      ]
    },
    {
      "cell_type": "code",
      "source": [
        "# v1_class1 VS v1_class0\n",
        "\n",
        "credit_df = pd.read_csv('creditcard.csv')\n",
        "credit_df.head()\n",
        "#изъятие двух необходимых колонок \n",
        "two_colums_df =df.iloc[:, [1, 30]]\n",
        "print(two_colums_df)\n",
        "\n",
        "#соотнесение данных признака V1 и Class1\n",
        "v1_class1_df = two_colums_df[df['Class'] == 1]\n",
        "v1_class1_df = v1_class1_df.reset_index(drop=True)\n",
        "print(v1_class1_df)\n",
        "\n",
        "##соотнесение данных признака V1 и Class0\n",
        "v1_class0_df = two_colums_df[df['Class'] == 0]\n",
        "v1_class0_df = v1_class0_df.reset_index(drop=True)\n",
        "print(v1_class0_df)\n"
      ],
      "metadata": {
        "colab": {
          "base_uri": "https://localhost:8080/"
        },
        "id": "S8q7KShzFIah",
        "outputId": "b3f1b0b2-dd9f-4567-8007-bfd3531c5eae"
      },
      "execution_count": 17,
      "outputs": [
        {
          "output_type": "stream",
          "name": "stdout",
          "text": [
            "               V1  Class\n",
            "0       -1.359807      0\n",
            "1        1.191857      0\n",
            "2       -1.358354      0\n",
            "3       -0.966272      0\n",
            "4       -1.158233      0\n",
            "...           ...    ...\n",
            "284802 -11.881118      0\n",
            "284803  -0.732789      0\n",
            "284804   1.919565      0\n",
            "284805  -0.240440      0\n",
            "284806  -0.533413      0\n",
            "\n",
            "[284807 rows x 2 columns]\n",
            "           V1  Class\n",
            "0   -2.312227      1\n",
            "1   -3.043541      1\n",
            "2   -2.303350      1\n",
            "3   -4.397974      1\n",
            "4    1.234235      1\n",
            "..        ...    ...\n",
            "487 -1.927883      1\n",
            "488  1.378559      1\n",
            "489 -0.676143      1\n",
            "490 -3.113832      1\n",
            "491  1.991976      1\n",
            "\n",
            "[492 rows x 2 columns]\n",
            "               V1  Class\n",
            "0       -1.359807      0\n",
            "1        1.191857      0\n",
            "2       -1.358354      0\n",
            "3       -0.966272      0\n",
            "4       -1.158233      0\n",
            "...           ...    ...\n",
            "284310 -11.881118      0\n",
            "284311  -0.732789      0\n",
            "284312   1.919565      0\n",
            "284313  -0.240440      0\n",
            "284314  -0.533413      0\n",
            "\n",
            "[284315 rows x 2 columns]\n"
          ]
        }
      ]
    },
    {
      "cell_type": "code",
      "source": [
        "#демонстрация сравнения данных  признака V1 по разным типам транзакций\n",
        "from pylab import rcParams\n",
        "\n",
        "rcParams[\"figure.figsize\"] = 9, 12\n",
        "\n",
        "plt.hist(v1_class1_df['V1'],  density = True, bins = 20, color ='maroon', ec = 'white')\n",
        "plt.hist(v1_class0_df['V1'],  density = True, bins = 20, color ='gray', alpha = 0.5, ec = 'black')\n",
        "plt.xlabel('V1')\n",
        "plt.legend(labels=['Class 1', 'Class 0'])\n",
        "plt.show()\n"
      ],
      "metadata": {
        "colab": {
          "base_uri": "https://localhost:8080/",
          "height": 770
        },
        "id": "fUKBJ1-iGW9Z",
        "outputId": "79c095f0-906b-47e4-ab48-5a89fee3c14a"
      },
      "execution_count": 18,
      "outputs": [
        {
          "output_type": "display_data",
          "data": {
            "text/plain": [
              "<Figure size 648x864 with 1 Axes>"
            ],
            "image/png": "[encoded data removed]"
          },
          "metadata": {}
        }
      ]
    },
    {
      "cell_type": "code",
      "source": [
        ""
      ],
      "metadata": {
        "id": "GLC4G7whGezP"
      },
      "execution_count": null,
      "outputs": []
    }
  ]
}