{
  "nbformat": 4,
  "nbformat_minor": 0,
  "metadata": {
    "colab": {
      "name": "numpy_hw1.ipynb",
      "provenance": [],
      "collapsed_sections": [],
      "authorship_tag": "ABX9TyOIckgBGWGpwV0wDpQa5hq7",
      "include_colab_link": true
    },
    "kernelspec": {
      "name": "python3",
      "display_name": "Python 3"
    },
    "language_info": {
      "name": "python"
    }
  },
  "cells": [
    {
      "cell_type": "markdown",
      "metadata": {
        "id": "view-in-github",
        "colab_type": "text"
      },
      "source": [
        "<a href=\"https://colab.research.google.com/github/Greta-gerasimov/Project_libraries/blob/dev/numpy_hw1.ipynb\" target=\"_parent\"><img src=\"https://colab.research.google.com/assets/colab-badge.svg\" alt=\"Open In Colab\"/></a>"
      ]
    },
    {
      "cell_type": "markdown",
      "source": [
        "🍪1"
      ],
      "metadata": {
        "id": "d2g0QqZWQTrb"
      }
    },
    {
      "cell_type": "code",
      "execution_count": null,
      "metadata": {
        "id": "yGB4OLFUN2yu"
      },
      "outputs": [],
      "source": [
        "import numpy as np\n"
      ]
    },
    {
      "cell_type": "code",
      "source": [
        "a = np.array([[1,6],[2,8],[3,11],[3,10],[1,7]])\n",
        "a"
      ],
      "metadata": {
        "colab": {
          "base_uri": "https://localhost:8080/"
        },
        "id": "BfWoeVxKN69e",
        "outputId": "360e3a91-4e74-4690-b709-b8b78492017c"
      },
      "execution_count": null,
      "outputs": [
        {
          "output_type": "execute_result",
          "data": {
            "text/plain": [
              "array([[ 1,  6],\n",
              "       [ 2,  8],\n",
              "       [ 3, 11],\n",
              "       [ 3, 10],\n",
              "       [ 1,  7]])"
            ]
          },
          "metadata": {},
          "execution_count": 3
        }
      ]
    },
    {
      "cell_type": "code",
      "source": [
        "a_mean = a.mean(axis=0)\n",
        "a_mean"
      ],
      "metadata": {
        "colab": {
          "base_uri": "https://localhost:8080/"
        },
        "id": "Ctj0M2SxPPGx",
        "outputId": "0e7f1c49-4547-4d9b-88d5-4c175b05c6b2"
      },
      "execution_count": null,
      "outputs": [
        {
          "output_type": "execute_result",
          "data": {
            "text/plain": [
              "array([2. , 8.4])"
            ]
          },
          "metadata": {},
          "execution_count": 40
        }
      ]
    },
    {
      "cell_type": "markdown",
      "source": [
        "🍪2"
      ],
      "metadata": {
        "id": "_QYU3XYsP_zf"
      }
    },
    {
      "cell_type": "code",
      "source": [
        "a_centered = np.subtract(a,a_mean)\n",
        "a_centered"
      ],
      "metadata": {
        "colab": {
          "base_uri": "https://localhost:8080/"
        },
        "id": "Hg-wzwI6P9wW",
        "outputId": "449bf3f8-f2cc-40b4-a556-401550b0eba2"
      },
      "execution_count": null,
      "outputs": [
        {
          "output_type": "execute_result",
          "data": {
            "text/plain": [
              "array([[-1. , -2.4],\n",
              "       [ 0. , -0.4],\n",
              "       [ 1. ,  2.6],\n",
              "       [ 1. ,  1.6],\n",
              "       [-1. , -1.4]])"
            ]
          },
          "metadata": {},
          "execution_count": 5
        }
      ]
    },
    {
      "cell_type": "markdown",
      "source": [
        "🍪3"
      ],
      "metadata": {
        "id": "NSG6Y4IBQ1_Y"
      }
    },
    {
      "cell_type": "code",
      "source": [
        "row1 = np.array((a_centered[0:6, 0:1].copy()),\n",
        "                           dtype = int)\n",
        "row2 = np.array((a_centered[0:6 ,1:2].copy()),\n",
        "                           dtype = int)\n",
        "\n",
        "print(row1)\n"
      ],
      "metadata": {
        "colab": {
          "base_uri": "https://localhost:8080/"
        },
        "id": "ol3WCnddQ4Tr",
        "outputId": "30ddd3e5-c0aa-4f42-d8d3-3642da0112af"
      },
      "execution_count": null,
      "outputs": [
        {
          "output_type": "stream",
          "name": "stdout",
          "text": [
            "[[-1]\n",
            " [ 0]\n",
            " [ 1]\n",
            " [ 1]\n",
            " [-1]]\n"
          ]
        }
      ]
    },
    {
      "cell_type": "code",
      "source": [
        "row2.shape"
      ],
      "metadata": {
        "colab": {
          "base_uri": "https://localhost:8080/"
        },
        "id": "uKBECkK1a5PD",
        "outputId": "4df6fa30-1d6c-48d6-a8d6-631cfb8dfb10"
      },
      "execution_count": null,
      "outputs": [
        {
          "output_type": "execute_result",
          "data": {
            "text/plain": [
              "(5, 1)"
            ]
          },
          "metadata": {},
          "execution_count": 7
        }
      ]
    },
    {
      "cell_type": "code",
      "source": [
        "print(row2)"
      ],
      "metadata": {
        "colab": {
          "base_uri": "https://localhost:8080/"
        },
        "id": "TRY71mY6pBmy",
        "outputId": "221a74e3-78ee-4928-aaa7-1013f6494d96"
      },
      "execution_count": null,
      "outputs": [
        {
          "output_type": "stream",
          "name": "stdout",
          "text": [
            "[[-2]\n",
            " [ 0]\n",
            " [ 2]\n",
            " [ 1]\n",
            " [-1]]\n"
          ]
        }
      ]
    },
    {
      "cell_type": "markdown",
      "source": [
        "транспонирование матрицы разными способами:"
      ],
      "metadata": {
        "id": "fgeh0N9apKD7"
      }
    },
    {
      "cell_type": "code",
      "source": [
        "#1\n",
        "a_T=np.array([[1,6],[2,8],[3,11],[3,10],[1,7]]).T\n",
        "print(a_T)"
      ],
      "metadata": {
        "colab": {
          "base_uri": "https://localhost:8080/"
        },
        "id": "yOL88o-ru_u8",
        "outputId": "41807bf4-2b86-4318-abd7-f3d86a173926"
      },
      "execution_count": null,
      "outputs": [
        {
          "output_type": "stream",
          "name": "stdout",
          "text": [
            "[[ 1  2  3  3  1]\n",
            " [ 6  8 11 10  7]]\n"
          ]
        }
      ]
    },
    {
      "cell_type": "code",
      "source": [
        "#2\n",
        "row1_T = np.transpose(row1)\n",
        "print(row1_T)\n"
      ],
      "metadata": {
        "id": "GagdC6cwZ6UP",
        "colab": {
          "base_uri": "https://localhost:8080/"
        },
        "outputId": "6d81fd5f-5ba4-473e-ef15-edfdb15d79bd"
      },
      "execution_count": null,
      "outputs": [
        {
          "output_type": "stream",
          "name": "stdout",
          "text": [
            "[[-1  0  1  1 -1]]\n"
          ]
        }
      ]
    },
    {
      "cell_type": "code",
      "source": [
        "!pip install pymatrix"
      ],
      "metadata": {
        "colab": {
          "base_uri": "https://localhost:8080/"
        },
        "id": "eOdelFskq3-8",
        "outputId": "595d1e8e-d41c-41c2-c90f-c0d13940e8a1"
      },
      "execution_count": null,
      "outputs": [
        {
          "output_type": "stream",
          "name": "stdout",
          "text": [
            "Collecting pymatrix\n",
            "  Downloading pymatrix-3.0.1.tar.gz (7.1 kB)\n",
            "Building wheels for collected packages: pymatrix\n",
            "  Building wheel for pymatrix (setup.py) ... \u001b[?25l\u001b[?25hdone\n",
            "  Created wheel for pymatrix: filename=pymatrix-3.0.1-py3-none-any.whl size=7061 sha256=b1c8db3a3105fb3bec91654ac729931f523f17af8a40323b2c08bef73770a96f\n",
            "  Stored in directory: /root/.cache/pip/wheels/0b/f6/fb/48658698ba9d602d6a134df6405d80ddc336c63585cf649bd0\n",
            "Successfully built pymatrix\n",
            "Installing collected packages: pymatrix\n",
            "Successfully installed pymatrix-3.0.1\n"
          ]
        }
      ]
    },
    {
      "cell_type": "code",
      "source": [
        "#3\n",
        "import pymatrix\n",
        "matrix= pymatrix.matrix([[-1],[0],[1],[1],[-1]])\n",
        "row1__T = matrix.trans()\n",
        "print(f'транспонированная матрица: \\n {row1__T}')"
      ],
      "metadata": {
        "colab": {
          "base_uri": "https://localhost:8080/"
        },
        "id": "VnCk-LtEpRYy",
        "outputId": "f0e80f54-12cc-4a22-9658-e841e0ca3176"
      },
      "execution_count": null,
      "outputs": [
        {
          "output_type": "stream",
          "name": "stdout",
          "text": [
            "транспонированная матрица: \n",
            " -1  0  1  1 -1\n"
          ]
        }
      ]
    },
    {
      "cell_type": "code",
      "source": [
        "a_centered_sp = row1_T @ row2\n",
        "print(a_centered_sp)"
      ],
      "metadata": {
        "colab": {
          "base_uri": "https://localhost:8080/"
        },
        "id": "XpObw0imhPDM",
        "outputId": "cdeb98e1-75dc-4955-fca6-f411924f89ab"
      },
      "execution_count": null,
      "outputs": [
        {
          "output_type": "stream",
          "name": "stdout",
          "text": [
            "[[6]]\n"
          ]
        }
      ]
    },
    {
      "cell_type": "code",
      "source": [
        ""
      ],
      "metadata": {
        "id": "EF8f0recuui7"
      },
      "execution_count": null,
      "outputs": []
    },
    {
      "cell_type": "code",
      "source": [
        "print(f'\\n скалярное произведение столбцов:\\n a_centered_sp:\\n {a_centered_sp}')"
      ],
      "metadata": {
        "colab": {
          "base_uri": "https://localhost:8080/"
        },
        "id": "-fVFdtFgh__J",
        "outputId": "99eb4b30-c923-450b-9a51-6f2045ba7ba4"
      },
      "execution_count": null,
      "outputs": [
        {
          "output_type": "stream",
          "name": "stdout",
          "text": [
            "\n",
            " скалярное произведение столбцов:\n",
            " a_centered_sp:\n",
            " [[6]]\n"
          ]
        }
      ]
    },
    {
      "cell_type": "code",
      "source": [
        "#количество строк(наблюдений):\n",
        "rows = len(a)\n",
        "print(rows)\n"
      ],
      "metadata": {
        "colab": {
          "base_uri": "https://localhost:8080/"
        },
        "id": "hN5t-R3ckLwe",
        "outputId": "23e9fdb6-0355-4400-ec3b-1cce81bc68ab"
      },
      "execution_count": null,
      "outputs": [
        {
          "output_type": "stream",
          "name": "stdout",
          "text": [
            "5\n"
          ]
        }
      ]
    },
    {
      "cell_type": "code",
      "source": [
        ""
      ],
      "metadata": {
        "id": "Uat9dJr3r_FK"
      },
      "execution_count": null,
      "outputs": []
    },
    {
      "cell_type": "code",
      "source": [
        "z = a_centered_sp * (1/(rows-1))\n",
        "print(z)\n"
      ],
      "metadata": {
        "colab": {
          "base_uri": "https://localhost:8080/"
        },
        "id": "AHbIe5ZimRtU",
        "outputId": "3a92fd0a-4596-4a82-f73f-3890ac9d4d67"
      },
      "execution_count": null,
      "outputs": [
        {
          "output_type": "stream",
          "name": "stdout",
          "text": [
            "[[1.5]]\n"
          ]
        }
      ]
    },
    {
      "cell_type": "code",
      "source": [
        "covMatrix = np.cov(a_T,bias=True)\n",
        "print (covMatrix)\n"
      ],
      "metadata": {
        "colab": {
          "base_uri": "https://localhost:8080/"
        },
        "id": "7tRAmJ-2zJ_n",
        "outputId": "ac40218f-ba9c-450e-8169-d1046802e8b5"
      },
      "execution_count": null,
      "outputs": [
        {
          "output_type": "stream",
          "name": "stdout",
          "text": [
            "[[0.8  1.6 ]\n",
            " [1.6  3.44]]\n"
          ]
        }
      ]
    }
  ]
}


